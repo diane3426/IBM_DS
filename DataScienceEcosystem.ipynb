{
 "cells": [
  {
   "cell_type": "markdown",
   "id": "79db39b0-de0d-4864-abee-2d74021a0ce0",
   "metadata": {},
   "source": [
    "# Data Science Tools and Ecosystem"
   ]
  },
  {
   "cell_type": "markdown",
   "id": "264a916c-e712-4870-a89b-5d7194e25940",
   "metadata": {},
   "source": [
    "## Author \n",
    "Diane Guan\n"
   ]
  },
  {
   "cell_type": "markdown",
   "id": "945a467e-cc25-46c4-92af-450fa5f0b65b",
   "metadata": {},
   "source": [
    "In this notebook, Data Science Tools and Ecosystem are summarized."
   ]
  },
  {
   "cell_type": "markdown",
   "id": "561713fa-c6de-46f4-92a8-7b6808a0e97e",
   "metadata": {},
   "source": [
    "**Objectives:**\n",
    "\n",
    "- List popular languages for Data Science.\n",
    "- Introduce key Data Science tools and environments.\n",
    "- Provide examples of evaluating arithmetic expressions in Python.\n"
   ]
  },
  {
   "cell_type": "markdown",
   "id": "7ccad1bd-784d-42d4-bf9c-9c298bcf19ab",
   "metadata": {},
   "source": [
    "Some of the popular languages that Data Scientists use are:\n",
    "\n",
    "1. Python\n",
    "2. R \n",
    "3. SQl"
   ]
  },
  {
   "cell_type": "markdown",
   "id": "c2e43a02-c87f-4516-82c9-fa523d507ba9",
   "metadata": {},
   "source": [
    "Some of the commonly used libraries used by Data Scientists include:\n",
    "1. Pandas\n",
    "2. Numpy\n",
    "3. Pytorch"
   ]
  },
  {
   "cell_type": "markdown",
   "id": "f9f3acda-6e80-4074-82b7-ed9d7bf1b537",
   "metadata": {},
   "source": [
    "| Data Science Tools |\n",
    "|-------------------|\n",
    "| Jupyter Notebook  |\n",
    "| RStudio           |\n",
    "| VS Code + Python  |\n"
   ]
  },
  {
   "cell_type": "markdown",
   "id": "53cd207c-c6ad-475c-851a-43d3e096296f",
   "metadata": {},
   "source": [
    "### Below are a few examples of evaluating arithmetic expressions in Python."
   ]
  },
  {
   "cell_type": "code",
   "execution_count": 2,
   "id": "aedffe8b-06ed-4649-8508-863e7d7cbcb9",
   "metadata": {},
   "outputs": [
    {
     "data": {
      "text/plain": [
       "17"
      ]
     },
     "execution_count": 2,
     "metadata": {},
     "output_type": "execute_result"
    }
   ],
   "source": [
    "(3*4)+5\n",
    "# This a simple arithmetic expression to mutiply then add integers"
   ]
  },
  {
   "cell_type": "code",
   "execution_count": 4,
   "id": "88165bbe-20ce-4a42-97cb-8fbde5fb580d",
   "metadata": {},
   "outputs": [
    {
     "data": {
      "text/plain": [
       "3.3333333333333335"
      ]
     },
     "execution_count": 4,
     "metadata": {},
     "output_type": "execute_result"
    }
   ],
   "source": [
    "minutes = 200\n",
    "hours = minutes/60\n",
    "hours\n",
    "# This will convert 200 minutes to hours by diving by 60."
   ]
  }
 ],
 "metadata": {
  "kernelspec": {
   "display_name": "Python 3",
   "language": "python",
   "name": "python3"
  },
  "language_info": {
   "codemirror_mode": {
    "name": "ipython",
    "version": 3
   },
   "file_extension": ".py",
   "mimetype": "text/x-python",
   "name": "python",
   "nbconvert_exporter": "python",
   "pygments_lexer": "ipython3",
   "version": "3.8.8"
  }
 },
 "nbformat": 4,
 "nbformat_minor": 5
}
